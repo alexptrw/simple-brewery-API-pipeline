{
 "cells": [
  {
   "cell_type": "code",
   "execution_count": 47,
   "id": "0cfd5a6b-89bf-4925-a000-cb612473a582",
   "metadata": {},
   "outputs": [],
   "source": [
    "import requests\n",
    "import datetime\n",
    "import time\n",
    "import json\n",
    "import pandas as pd"
   ]
  },
  {
   "cell_type": "code",
   "execution_count": 57,
   "id": "13aa63f1-d8d1-424a-b28a-a2c6f2dd1d24",
   "metadata": {},
   "outputs": [],
   "source": [
    "time_now = datetime.datetime.now().strftime(\"%Y-%m-%d\")\n",
    "url = f\"https://api.openbrewerydb.org/v1/breweries\""
   ]
  },
  {
   "cell_type": "code",
   "execution_count": 58,
   "id": "9e4c6ddb-ecdc-4b3c-96fc-cfaa1f37ed0e",
   "metadata": {},
   "outputs": [],
   "source": [
    "response = requests.get(url)\n",
    "response.raise_for_status()"
   ]
  },
  {
   "cell_type": "code",
   "execution_count": 40,
   "id": "c86cfcd2-3360-4410-ae7c-5cd1b1ccd2e7",
   "metadata": {},
   "outputs": [],
   "source": [
    "data = response.json()"
   ]
  },
  {
   "cell_type": "code",
   "execution_count": 48,
   "id": "3f9dd852-d6e6-47fb-9bee-83eed7fc9449",
   "metadata": {},
   "outputs": [],
   "source": [
    "with open(f\"raw_data/breweries_{time_now}.json\", \"w\") as f:\n",
    "    json.dump(data, f)"
   ]
  },
  {
   "cell_type": "code",
   "execution_count": 59,
   "id": "ab221aac-d5ea-4a2b-8a57-80aa8df11aee",
   "metadata": {},
   "outputs": [],
   "source": [
    "df = pd.DataFrame(data)"
   ]
  },
  {
   "cell_type": "code",
   "execution_count": 63,
   "id": "73f5e29e-1f8c-4c9c-8ad9-bcc129a567b3",
   "metadata": {},
   "outputs": [
    {
     "data": {
      "text/plain": [
       "Index(['id', 'name', 'brewery_type', 'address_1', 'address_2', 'address_3',\n",
       "       'city', 'state_province', 'postal_code', 'country', 'longitude',\n",
       "       'latitude', 'phone', 'website_url', 'state', 'street'],\n",
       "      dtype='object')"
      ]
     },
     "execution_count": 63,
     "metadata": {},
     "output_type": "execute_result"
    }
   ],
   "source": [
    "df.columns\n"
   ]
  },
  {
   "cell_type": "code",
   "execution_count": 64,
   "id": "e7b5c3ee-5cde-4c04-9358-cc9763b0d8a4",
   "metadata": {},
   "outputs": [
    {
     "data": {
      "text/html": [
       "<div>\n",
       "<style scoped>\n",
       "    .dataframe tbody tr th:only-of-type {\n",
       "        vertical-align: middle;\n",
       "    }\n",
       "\n",
       "    .dataframe tbody tr th {\n",
       "        vertical-align: top;\n",
       "    }\n",
       "\n",
       "    .dataframe thead th {\n",
       "        text-align: right;\n",
       "    }\n",
       "</style>\n",
       "<table border=\"1\" class=\"dataframe\">\n",
       "  <thead>\n",
       "    <tr style=\"text-align: right;\">\n",
       "      <th></th>\n",
       "      <th>id</th>\n",
       "      <th>name</th>\n",
       "      <th>brewery_type</th>\n",
       "      <th>city</th>\n",
       "      <th>state</th>\n",
       "      <th>postal_code</th>\n",
       "      <th>country</th>\n",
       "      <th>phone</th>\n",
       "      <th>website_url</th>\n",
       "    </tr>\n",
       "  </thead>\n",
       "  <tbody>\n",
       "    <tr>\n",
       "      <th>0</th>\n",
       "      <td>5128df48-79fc-4f0f-8b52-d06be54d0cec</td>\n",
       "      <td>(405) Brewing Co</td>\n",
       "      <td>micro</td>\n",
       "      <td>Norman</td>\n",
       "      <td>Oklahoma</td>\n",
       "      <td>73069-8224</td>\n",
       "      <td>United States</td>\n",
       "      <td>4058160490</td>\n",
       "      <td>http://www.405brewing.com</td>\n",
       "    </tr>\n",
       "    <tr>\n",
       "      <th>1</th>\n",
       "      <td>9c5a66c8-cc13-416f-a5d9-0a769c87d318</td>\n",
       "      <td>(512) Brewing Co</td>\n",
       "      <td>micro</td>\n",
       "      <td>Austin</td>\n",
       "      <td>Texas</td>\n",
       "      <td>78745-1197</td>\n",
       "      <td>United States</td>\n",
       "      <td>5129211545</td>\n",
       "      <td>http://www.512brewing.com</td>\n",
       "    </tr>\n",
       "    <tr>\n",
       "      <th>2</th>\n",
       "      <td>34e8c68b-6146-453f-a4b9-1f6cd99a5ada</td>\n",
       "      <td>1 of Us Brewing Company</td>\n",
       "      <td>micro</td>\n",
       "      <td>Mount Pleasant</td>\n",
       "      <td>Wisconsin</td>\n",
       "      <td>53406-3920</td>\n",
       "      <td>United States</td>\n",
       "      <td>2624847553</td>\n",
       "      <td>https://www.1ofusbrewing.com</td>\n",
       "    </tr>\n",
       "    <tr>\n",
       "      <th>3</th>\n",
       "      <td>6d14b220-8926-4521-8d19-b98a2d6ec3db</td>\n",
       "      <td>10 Barrel Brewing Co</td>\n",
       "      <td>large</td>\n",
       "      <td>Bend</td>\n",
       "      <td>Oregon</td>\n",
       "      <td>97701-9847</td>\n",
       "      <td>United States</td>\n",
       "      <td>5415851007</td>\n",
       "      <td>http://www.10barrel.com</td>\n",
       "    </tr>\n",
       "    <tr>\n",
       "      <th>4</th>\n",
       "      <td>e2e78bd8-80ff-4a61-a65c-3bfbd9d76ce2</td>\n",
       "      <td>10 Barrel Brewing Co</td>\n",
       "      <td>large</td>\n",
       "      <td>Bend</td>\n",
       "      <td>Oregon</td>\n",
       "      <td>97703-2465</td>\n",
       "      <td>United States</td>\n",
       "      <td>5415851007</td>\n",
       "      <td>None</td>\n",
       "    </tr>\n",
       "  </tbody>\n",
       "</table>\n",
       "</div>"
      ],
      "text/plain": [
       "                                     id                     name brewery_type  \\\n",
       "0  5128df48-79fc-4f0f-8b52-d06be54d0cec         (405) Brewing Co        micro   \n",
       "1  9c5a66c8-cc13-416f-a5d9-0a769c87d318         (512) Brewing Co        micro   \n",
       "2  34e8c68b-6146-453f-a4b9-1f6cd99a5ada  1 of Us Brewing Company        micro   \n",
       "3  6d14b220-8926-4521-8d19-b98a2d6ec3db     10 Barrel Brewing Co        large   \n",
       "4  e2e78bd8-80ff-4a61-a65c-3bfbd9d76ce2     10 Barrel Brewing Co        large   \n",
       "\n",
       "             city      state postal_code        country       phone  \\\n",
       "0          Norman   Oklahoma  73069-8224  United States  4058160490   \n",
       "1          Austin      Texas  78745-1197  United States  5129211545   \n",
       "2  Mount Pleasant  Wisconsin  53406-3920  United States  2624847553   \n",
       "3            Bend     Oregon  97701-9847  United States  5415851007   \n",
       "4            Bend     Oregon  97703-2465  United States  5415851007   \n",
       "\n",
       "                    website_url  \n",
       "0     http://www.405brewing.com  \n",
       "1     http://www.512brewing.com  \n",
       "2  https://www.1ofusbrewing.com  \n",
       "3       http://www.10barrel.com  \n",
       "4                          None  "
      ]
     },
     "execution_count": 64,
     "metadata": {},
     "output_type": "execute_result"
    }
   ],
   "source": [
    "columns = [\"id\", \"name\", \"brewery_type\", \"city\", \"state\", \"postal_code\", \"country\", \"phone\", \"website_url\"]\n",
    "existing_cols = [col for col in columns if col in df.columns]\n",
    "rel_df = df[existing_cols]\n",
    "rel_df.head()"
   ]
  },
  {
   "cell_type": "code",
   "execution_count": null,
   "id": "11265766-da2e-4d6f-9c8c-d5f83e526fae",
   "metadata": {},
   "outputs": [],
   "source": []
  }
 ],
 "metadata": {
  "kernelspec": {
   "display_name": "Python 3 (ipykernel)",
   "language": "python",
   "name": "python3"
  },
  "language_info": {
   "codemirror_mode": {
    "name": "ipython",
    "version": 3
   },
   "file_extension": ".py",
   "mimetype": "text/x-python",
   "name": "python",
   "nbconvert_exporter": "python",
   "pygments_lexer": "ipython3",
   "version": "3.13.1"
  }
 },
 "nbformat": 4,
 "nbformat_minor": 5
}
